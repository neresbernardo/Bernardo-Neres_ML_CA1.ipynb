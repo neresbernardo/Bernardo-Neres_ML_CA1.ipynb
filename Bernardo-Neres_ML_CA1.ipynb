{
 "cells": [
  {
   "cell_type": "markdown",
   "id": "6f82c9ac",
   "metadata": {},
   "source": [
    "Name: Bernardo Neres Silva  \n",
    "Student Number: 2023484  \n",
    "Github link: https://github.com/neresbernardo/Bernardo-Neres_ML_CA1.ipynb "
   ]
  },
  {
   "cell_type": "code",
   "execution_count": 4,
   "id": "e08e88aa",
   "metadata": {},
   "outputs": [
    {
     "name": "stdout",
     "output_type": "stream",
     "text": [
      "   Source Port  Destination Port  NAT Source Port  NAT Destination Port  \\\n",
      "0        57222                53            54587                    53   \n",
      "1        56258              3389            56258                  3389   \n",
      "2         6881             50321            43265                 50321   \n",
      "3        50553              3389            50553                  3389   \n",
      "4        50002               443            45848                   443   \n",
      "\n",
      "   Bytes  Bytes Sent  Bytes Received  Packets  Elapsed Time (sec)  pkts_sent  \\\n",
      "0    177          94              83        2                  30          1   \n",
      "1   4768        1600            3168       19                  17         10   \n",
      "2    238         118             120        2                1199          1   \n",
      "3   3327        1438            1889       15                  17          8   \n",
      "4  25358        6778           18580       31                  16         13   \n",
      "\n",
      "   pkts_received Action  \n",
      "0              1  allow  \n",
      "1              9  allow  \n",
      "2              1  allow  \n",
      "3              7  allow  \n",
      "4             18  allow  \n"
     ]
    }
   ],
   "source": [
    "import pandas as pd\n",
    "import seaborn as sns\n",
    "import matplotlib.pyplot as plt\n",
    "\n",
    "# Load the dataset\n",
    "df = pd.read_csv(\"log2.csv\")\n",
    "\n",
    "# Display the first few rows of the dataframe\n",
    "print(df.head())\n"
   ]
  },
  {
   "cell_type": "code",
   "execution_count": 5,
   "id": "5cb77e13",
   "metadata": {},
   "outputs": [
    {
     "name": "stdout",
     "output_type": "stream",
     "text": [
      "        Source Port  Destination Port  NAT Source Port  NAT Destination Port  \\\n",
      "count  65532.000000      65532.000000     65532.000000          65532.000000   \n",
      "mean   49391.969343      10577.385812     19282.972761           2671.049930   \n",
      "std    15255.712537      18466.027039     21970.689669           9739.162278   \n",
      "min        0.000000          0.000000         0.000000              0.000000   \n",
      "25%    49183.000000         80.000000         0.000000              0.000000   \n",
      "50%    53776.500000        445.000000      8820.500000             53.000000   \n",
      "75%    58638.000000      15000.000000     38366.250000            443.000000   \n",
      "max    65534.000000      65535.000000     65535.000000          65535.000000   \n",
      "\n",
      "              Bytes    Bytes Sent  Bytes Received       Packets  \\\n",
      "count  6.553200e+04  6.553200e+04    6.553200e+04  6.553200e+04   \n",
      "mean   9.712395e+04  2.238580e+04    7.473815e+04  1.028660e+02   \n",
      "std    5.618439e+06  3.828139e+06    2.463208e+06  5.133002e+03   \n",
      "min    6.000000e+01  6.000000e+01    0.000000e+00  1.000000e+00   \n",
      "25%    6.600000e+01  6.600000e+01    0.000000e+00  1.000000e+00   \n",
      "50%    1.680000e+02  9.000000e+01    7.900000e+01  2.000000e+00   \n",
      "75%    7.522500e+02  2.100000e+02    4.490000e+02  6.000000e+00   \n",
      "max    1.269359e+09  9.484772e+08    3.208818e+08  1.036116e+06   \n",
      "\n",
      "       Elapsed Time (sec)      pkts_sent  pkts_received  \n",
      "count        65532.000000   65532.000000   65532.000000  \n",
      "mean            65.833577      41.399530      61.466505  \n",
      "std            302.461762    3218.871288    2223.332271  \n",
      "min              0.000000       1.000000       0.000000  \n",
      "25%              0.000000       1.000000       0.000000  \n",
      "50%             15.000000       1.000000       1.000000  \n",
      "75%             30.000000       3.000000       2.000000  \n",
      "max          10824.000000  747520.000000  327208.000000  \n"
     ]
    }
   ],
   "source": [
    "# Check the summary statistics\n",
    "print(df.describe())\n"
   ]
  },
  {
   "cell_type": "code",
   "execution_count": 6,
   "id": "dbb2b3a6",
   "metadata": {},
   "outputs": [
    {
     "name": "stdout",
     "output_type": "stream",
     "text": [
      "Source Port             0\n",
      "Destination Port        0\n",
      "NAT Source Port         0\n",
      "NAT Destination Port    0\n",
      "Bytes                   0\n",
      "Bytes Sent              0\n",
      "Bytes Received          0\n",
      "Packets                 0\n",
      "Elapsed Time (sec)      0\n",
      "pkts_sent               0\n",
      "pkts_received           0\n",
      "Action                  0\n",
      "dtype: int64\n"
     ]
    }
   ],
   "source": [
    "# Check for missing values\n",
    "print(df.isnull().sum())\n"
   ]
  },
  {
   "cell_type": "markdown",
   "id": "4b17c925",
   "metadata": {},
   "source": [
    "References \n",
    "\n",
    "GeeksforGeeks.(Dec 06,2023). EDA | Exploratory Data Analysis in Python. Available at https://www.geeksforgeeks.org/exploratory-data-analysis-in-python/"
   ]
  }
 ],
 "metadata": {
  "kernelspec": {
   "display_name": "Python 3 (ipykernel)",
   "language": "python",
   "name": "python3"
  },
  "language_info": {
   "codemirror_mode": {
    "name": "ipython",
    "version": 3
   },
   "file_extension": ".py",
   "mimetype": "text/x-python",
   "name": "python",
   "nbconvert_exporter": "python",
   "pygments_lexer": "ipython3",
   "version": "3.11.4"
  }
 },
 "nbformat": 4,
 "nbformat_minor": 5
}
